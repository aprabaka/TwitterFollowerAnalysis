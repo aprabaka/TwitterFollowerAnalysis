{
 "cells": [
  {
   "cell_type": "code",
   "execution_count": 1,
   "metadata": {},
   "outputs": [],
   "source": [
    "import numpy as np\n",
    "import pandas as pd\n",
    "import matplotlib.pyplot as plt\n",
    "import seaborn as sns\n",
    "%matplotlib inline\n",
    "\n",
    "from sklearn.model_selection import KFold"
   ]
  },
  {
   "cell_type": "code",
   "execution_count": 2,
   "metadata": {},
   "outputs": [],
   "source": [
    "from sklearn import metrics\n",
    "import warnings\n",
    "warnings.filterwarnings('ignore')"
   ]
  },
  {
   "cell_type": "code",
   "execution_count": 3,
   "metadata": {},
   "outputs": [],
   "source": [
    "# This is the function to create new columns from the description columns\n",
    "interests = ['python', 'machine learning', 'deep learning', 'engineer','data science','artificial intelligence', 'nlp','cs','computers','follow','followback']\n",
    "def new_column(string):\n",
    "    df[string] = np.where(df['description'].str.lower().str.contains(string)==True,1,0)"
   ]
  },
  {
   "cell_type": "code",
   "execution_count": 4,
   "metadata": {},
   "outputs": [
    {
     "data": {
      "text/html": [
       "<div>\n",
       "<style scoped>\n",
       "    .dataframe tbody tr th:only-of-type {\n",
       "        vertical-align: middle;\n",
       "    }\n",
       "\n",
       "    .dataframe tbody tr th {\n",
       "        vertical-align: top;\n",
       "    }\n",
       "\n",
       "    .dataframe thead th {\n",
       "        text-align: right;\n",
       "    }\n",
       "</style>\n",
       "<table border=\"1\" class=\"dataframe\">\n",
       "  <thead>\n",
       "    <tr style=\"text-align: right;\">\n",
       "      <th></th>\n",
       "      <th>Unnamed: 0</th>\n",
       "      <th>username</th>\n",
       "      <th>user_id</th>\n",
       "      <th>description</th>\n",
       "      <th>url_count</th>\n",
       "      <th>protected</th>\n",
       "      <th>followers_count</th>\n",
       "      <th>friends_count</th>\n",
       "      <th>user_created_at</th>\n",
       "      <th>user_favourites_count</th>\n",
       "      <th>utc_offset</th>\n",
       "      <th>geo_enabled</th>\n",
       "      <th>veified</th>\n",
       "      <th>user_statuses_count</th>\n",
       "      <th>contributors_enabled</th>\n",
       "      <th>translation_enabled</th>\n",
       "      <th>user_follows_me</th>\n",
       "      <th>user_is_friend</th>\n",
       "    </tr>\n",
       "  </thead>\n",
       "  <tbody>\n",
       "    <tr>\n",
       "      <th>0</th>\n",
       "      <td>0</td>\n",
       "      <td>castolosan</td>\n",
       "      <td>251924369</td>\n",
       "      <td>Developer and PhD student. Deep Neural Alchemi...</td>\n",
       "      <td>NaN</td>\n",
       "      <td>False</td>\n",
       "      <td>704</td>\n",
       "      <td>4229</td>\n",
       "      <td>2011</td>\n",
       "      <td>1116</td>\n",
       "      <td>NaN</td>\n",
       "      <td>False</td>\n",
       "      <td>False</td>\n",
       "      <td>2857</td>\n",
       "      <td>False</td>\n",
       "      <td>False</td>\n",
       "      <td>1</td>\n",
       "      <td>1</td>\n",
       "    </tr>\n",
       "    <tr>\n",
       "      <th>1</th>\n",
       "      <td>1</td>\n",
       "      <td>mostafa_albana_</td>\n",
       "      <td>229952696</td>\n",
       "      <td>#machinelearning #bigdata #datascience #java #...</td>\n",
       "      <td>1.0</td>\n",
       "      <td>False</td>\n",
       "      <td>561</td>\n",
       "      <td>2266</td>\n",
       "      <td>2010</td>\n",
       "      <td>258</td>\n",
       "      <td>NaN</td>\n",
       "      <td>False</td>\n",
       "      <td>False</td>\n",
       "      <td>260</td>\n",
       "      <td>False</td>\n",
       "      <td>False</td>\n",
       "      <td>0</td>\n",
       "      <td>1</td>\n",
       "    </tr>\n",
       "    <tr>\n",
       "      <th>2</th>\n",
       "      <td>2</td>\n",
       "      <td>Smrdas85</td>\n",
       "      <td>926455288089026561</td>\n",
       "      <td>Graphics Designing Engineering at Sun Flower G...</td>\n",
       "      <td>1.0</td>\n",
       "      <td>False</td>\n",
       "      <td>237</td>\n",
       "      <td>1725</td>\n",
       "      <td>2017</td>\n",
       "      <td>8169</td>\n",
       "      <td>NaN</td>\n",
       "      <td>True</td>\n",
       "      <td>False</td>\n",
       "      <td>3486</td>\n",
       "      <td>False</td>\n",
       "      <td>False</td>\n",
       "      <td>0</td>\n",
       "      <td>1</td>\n",
       "    </tr>\n",
       "    <tr>\n",
       "      <th>3</th>\n",
       "      <td>3</td>\n",
       "      <td>denisniskim</td>\n",
       "      <td>2901993755</td>\n",
       "      <td>Son of God🙇‍♂️Strategist✍️Environmentalist🌴Tec...</td>\n",
       "      <td>1.0</td>\n",
       "      <td>False</td>\n",
       "      <td>63</td>\n",
       "      <td>1155</td>\n",
       "      <td>2014</td>\n",
       "      <td>312</td>\n",
       "      <td>NaN</td>\n",
       "      <td>False</td>\n",
       "      <td>False</td>\n",
       "      <td>117</td>\n",
       "      <td>False</td>\n",
       "      <td>False</td>\n",
       "      <td>0</td>\n",
       "      <td>1</td>\n",
       "    </tr>\n",
       "    <tr>\n",
       "      <th>4</th>\n",
       "      <td>4</td>\n",
       "      <td>BHARGAVAANIL</td>\n",
       "      <td>135140166</td>\n",
       "      <td>AN ALUMNI OF PANJAB UNIVERSITY AND A LAW GRADU...</td>\n",
       "      <td>NaN</td>\n",
       "      <td>False</td>\n",
       "      <td>1024</td>\n",
       "      <td>3465</td>\n",
       "      <td>2010</td>\n",
       "      <td>1921</td>\n",
       "      <td>NaN</td>\n",
       "      <td>True</td>\n",
       "      <td>False</td>\n",
       "      <td>4722</td>\n",
       "      <td>False</td>\n",
       "      <td>False</td>\n",
       "      <td>0</td>\n",
       "      <td>1</td>\n",
       "    </tr>\n",
       "  </tbody>\n",
       "</table>\n",
       "</div>"
      ],
      "text/plain": [
       "   Unnamed: 0         username             user_id  \\\n",
       "0           0       castolosan           251924369   \n",
       "1           1  mostafa_albana_           229952696   \n",
       "2           2         Smrdas85  926455288089026561   \n",
       "3           3      denisniskim          2901993755   \n",
       "4           4     BHARGAVAANIL           135140166   \n",
       "\n",
       "                                         description  url_count  protected  \\\n",
       "0  Developer and PhD student. Deep Neural Alchemi...        NaN      False   \n",
       "1  #machinelearning #bigdata #datascience #java #...        1.0      False   \n",
       "2  Graphics Designing Engineering at Sun Flower G...        1.0      False   \n",
       "3  Son of God🙇‍♂️Strategist✍️Environmentalist🌴Tec...        1.0      False   \n",
       "4  AN ALUMNI OF PANJAB UNIVERSITY AND A LAW GRADU...        NaN      False   \n",
       "\n",
       "   followers_count  friends_count  user_created_at  user_favourites_count  \\\n",
       "0              704           4229             2011                   1116   \n",
       "1              561           2266             2010                    258   \n",
       "2              237           1725             2017                   8169   \n",
       "3               63           1155             2014                    312   \n",
       "4             1024           3465             2010                   1921   \n",
       "\n",
       "   utc_offset  geo_enabled  veified  user_statuses_count  \\\n",
       "0         NaN        False    False                 2857   \n",
       "1         NaN        False    False                  260   \n",
       "2         NaN         True    False                 3486   \n",
       "3         NaN        False    False                  117   \n",
       "4         NaN         True    False                 4722   \n",
       "\n",
       "   contributors_enabled  translation_enabled  user_follows_me  user_is_friend  \n",
       "0                 False                False                1               1  \n",
       "1                 False                False                0               1  \n",
       "2                 False                False                0               1  \n",
       "3                 False                False                0               1  \n",
       "4                 False                False                0               1  "
      ]
     },
     "execution_count": 4,
     "metadata": {},
     "output_type": "execute_result"
    }
   ],
   "source": [
    "df = pd.read_csv(\"Twitter_MOST_New.csv\")\n",
    "df.head()"
   ]
  },
  {
   "cell_type": "code",
   "execution_count": 5,
   "metadata": {},
   "outputs": [
    {
     "data": {
      "text/plain": [
       "Index(['Unnamed: 0', 'username', 'user_id', 'description', 'url_count',\n",
       "       'protected', 'followers_count', 'friends_count', 'user_created_at',\n",
       "       'user_favourites_count', 'utc_offset', 'geo_enabled', 'veified',\n",
       "       'user_statuses_count', 'contributors_enabled', 'translation_enabled',\n",
       "       'user_follows_me', 'user_is_friend'],\n",
       "      dtype='object')"
      ]
     },
     "execution_count": 5,
     "metadata": {},
     "output_type": "execute_result"
    }
   ],
   "source": [
    "df.columns"
   ]
  },
  {
   "cell_type": "code",
   "execution_count": 6,
   "metadata": {},
   "outputs": [],
   "source": [
    "df.drop(['Unnamed: 0'],axis=1,inplace=True)"
   ]
  },
  {
   "cell_type": "code",
   "execution_count": 7,
   "metadata": {},
   "outputs": [],
   "source": [
    "# Calling function to create new columns\n",
    "\n",
    "for i in interests:\n",
    "    new_column(i)"
   ]
  },
  {
   "cell_type": "markdown",
   "metadata": {},
   "source": [
    "\n",
    "# missing values"
   ]
  },
  {
   "cell_type": "code",
   "execution_count": 8,
   "metadata": {},
   "outputs": [
    {
     "data": {
      "text/plain": [
       "username                      0\n",
       "user_id                       0\n",
       "description                   1\n",
       "url_count                   801\n",
       "protected                     0\n",
       "followers_count               0\n",
       "friends_count                 0\n",
       "user_created_at               0\n",
       "user_favourites_count         0\n",
       "utc_offset                 1950\n",
       "geo_enabled                   0\n",
       "veified                       0\n",
       "user_statuses_count           0\n",
       "contributors_enabled          0\n",
       "translation_enabled           0\n",
       "user_follows_me               0\n",
       "user_is_friend                0\n",
       "python                        0\n",
       "machine learning              0\n",
       "deep learning                 0\n",
       "engineer                      0\n",
       "data science                  0\n",
       "artificial intelligence       0\n",
       "nlp                           0\n",
       "cs                            0\n",
       "computers                     0\n",
       "follow                        0\n",
       "followback                    0\n",
       "dtype: int64"
      ]
     },
     "execution_count": 8,
     "metadata": {},
     "output_type": "execute_result"
    }
   ],
   "source": [
    "df.isnull().sum()"
   ]
  },
  {
   "cell_type": "code",
   "execution_count": 9,
   "metadata": {},
   "outputs": [],
   "source": [
    "df.drop(['utc_offset'],axis=1,inplace=True)\n",
    "df.url_count.fillna(0,inplace=True) #url count for users is 0 hence it is showing a null value, thats why replacing it with 0"
   ]
  },
  {
   "cell_type": "code",
   "execution_count": 10,
   "metadata": {},
   "outputs": [],
   "source": [
    "# We have extracted information from the description columns hence not required.\n",
    "df.drop(['description'],axis=1,inplace=True)"
   ]
  },
  {
   "cell_type": "code",
   "execution_count": 11,
   "metadata": {},
   "outputs": [
    {
     "data": {
      "text/plain": [
       "username                   0\n",
       "user_id                    0\n",
       "url_count                  0\n",
       "protected                  0\n",
       "followers_count            0\n",
       "friends_count              0\n",
       "user_created_at            0\n",
       "user_favourites_count      0\n",
       "geo_enabled                0\n",
       "veified                    0\n",
       "user_statuses_count        0\n",
       "contributors_enabled       0\n",
       "translation_enabled        0\n",
       "user_follows_me            0\n",
       "user_is_friend             0\n",
       "python                     0\n",
       "machine learning           0\n",
       "deep learning              0\n",
       "engineer                   0\n",
       "data science               0\n",
       "artificial intelligence    0\n",
       "nlp                        0\n",
       "cs                         0\n",
       "computers                  0\n",
       "follow                     0\n",
       "followback                 0\n",
       "dtype: int64"
      ]
     },
     "execution_count": 11,
     "metadata": {},
     "output_type": "execute_result"
    }
   ],
   "source": [
    "df.isnull().sum()"
   ]
  },
  {
   "cell_type": "code",
   "execution_count": 12,
   "metadata": {},
   "outputs": [],
   "source": [
    "# Hence handle all the missing values"
   ]
  },
  {
   "cell_type": "markdown",
   "metadata": {},
   "source": [
    "# Dropping the Irrelevent columns."
   ]
  },
  {
   "cell_type": "code",
   "execution_count": 13,
   "metadata": {},
   "outputs": [
    {
     "data": {
      "text/html": [
       "<div>\n",
       "<style scoped>\n",
       "    .dataframe tbody tr th:only-of-type {\n",
       "        vertical-align: middle;\n",
       "    }\n",
       "\n",
       "    .dataframe tbody tr th {\n",
       "        vertical-align: top;\n",
       "    }\n",
       "\n",
       "    .dataframe thead th {\n",
       "        text-align: right;\n",
       "    }\n",
       "</style>\n",
       "<table border=\"1\" class=\"dataframe\">\n",
       "  <thead>\n",
       "    <tr style=\"text-align: right;\">\n",
       "      <th></th>\n",
       "      <th>username</th>\n",
       "      <th>user_id</th>\n",
       "      <th>url_count</th>\n",
       "      <th>protected</th>\n",
       "      <th>followers_count</th>\n",
       "      <th>friends_count</th>\n",
       "      <th>user_created_at</th>\n",
       "      <th>user_favourites_count</th>\n",
       "      <th>geo_enabled</th>\n",
       "      <th>veified</th>\n",
       "      <th>...</th>\n",
       "      <th>machine learning</th>\n",
       "      <th>deep learning</th>\n",
       "      <th>engineer</th>\n",
       "      <th>data science</th>\n",
       "      <th>artificial intelligence</th>\n",
       "      <th>nlp</th>\n",
       "      <th>cs</th>\n",
       "      <th>computers</th>\n",
       "      <th>follow</th>\n",
       "      <th>followback</th>\n",
       "    </tr>\n",
       "  </thead>\n",
       "  <tbody>\n",
       "    <tr>\n",
       "      <th>0</th>\n",
       "      <td>castolosan</td>\n",
       "      <td>251924369</td>\n",
       "      <td>0.0</td>\n",
       "      <td>False</td>\n",
       "      <td>704</td>\n",
       "      <td>4229</td>\n",
       "      <td>2011</td>\n",
       "      <td>1116</td>\n",
       "      <td>False</td>\n",
       "      <td>False</td>\n",
       "      <td>...</td>\n",
       "      <td>0</td>\n",
       "      <td>0</td>\n",
       "      <td>0</td>\n",
       "      <td>0</td>\n",
       "      <td>0</td>\n",
       "      <td>0</td>\n",
       "      <td>0</td>\n",
       "      <td>0</td>\n",
       "      <td>0</td>\n",
       "      <td>0</td>\n",
       "    </tr>\n",
       "    <tr>\n",
       "      <th>1</th>\n",
       "      <td>mostafa_albana_</td>\n",
       "      <td>229952696</td>\n",
       "      <td>1.0</td>\n",
       "      <td>False</td>\n",
       "      <td>561</td>\n",
       "      <td>2266</td>\n",
       "      <td>2010</td>\n",
       "      <td>258</td>\n",
       "      <td>False</td>\n",
       "      <td>False</td>\n",
       "      <td>...</td>\n",
       "      <td>0</td>\n",
       "      <td>0</td>\n",
       "      <td>1</td>\n",
       "      <td>0</td>\n",
       "      <td>0</td>\n",
       "      <td>0</td>\n",
       "      <td>0</td>\n",
       "      <td>0</td>\n",
       "      <td>0</td>\n",
       "      <td>0</td>\n",
       "    </tr>\n",
       "    <tr>\n",
       "      <th>2</th>\n",
       "      <td>Smrdas85</td>\n",
       "      <td>926455288089026561</td>\n",
       "      <td>1.0</td>\n",
       "      <td>False</td>\n",
       "      <td>237</td>\n",
       "      <td>1725</td>\n",
       "      <td>2017</td>\n",
       "      <td>8169</td>\n",
       "      <td>True</td>\n",
       "      <td>False</td>\n",
       "      <td>...</td>\n",
       "      <td>0</td>\n",
       "      <td>0</td>\n",
       "      <td>1</td>\n",
       "      <td>0</td>\n",
       "      <td>0</td>\n",
       "      <td>0</td>\n",
       "      <td>1</td>\n",
       "      <td>0</td>\n",
       "      <td>0</td>\n",
       "      <td>0</td>\n",
       "    </tr>\n",
       "    <tr>\n",
       "      <th>3</th>\n",
       "      <td>denisniskim</td>\n",
       "      <td>2901993755</td>\n",
       "      <td>1.0</td>\n",
       "      <td>False</td>\n",
       "      <td>63</td>\n",
       "      <td>1155</td>\n",
       "      <td>2014</td>\n",
       "      <td>312</td>\n",
       "      <td>False</td>\n",
       "      <td>False</td>\n",
       "      <td>...</td>\n",
       "      <td>0</td>\n",
       "      <td>0</td>\n",
       "      <td>0</td>\n",
       "      <td>0</td>\n",
       "      <td>0</td>\n",
       "      <td>0</td>\n",
       "      <td>0</td>\n",
       "      <td>0</td>\n",
       "      <td>0</td>\n",
       "      <td>0</td>\n",
       "    </tr>\n",
       "    <tr>\n",
       "      <th>4</th>\n",
       "      <td>BHARGAVAANIL</td>\n",
       "      <td>135140166</td>\n",
       "      <td>0.0</td>\n",
       "      <td>False</td>\n",
       "      <td>1024</td>\n",
       "      <td>3465</td>\n",
       "      <td>2010</td>\n",
       "      <td>1921</td>\n",
       "      <td>True</td>\n",
       "      <td>False</td>\n",
       "      <td>...</td>\n",
       "      <td>0</td>\n",
       "      <td>0</td>\n",
       "      <td>0</td>\n",
       "      <td>0</td>\n",
       "      <td>0</td>\n",
       "      <td>0</td>\n",
       "      <td>1</td>\n",
       "      <td>0</td>\n",
       "      <td>0</td>\n",
       "      <td>0</td>\n",
       "    </tr>\n",
       "  </tbody>\n",
       "</table>\n",
       "<p>5 rows × 26 columns</p>\n",
       "</div>"
      ],
      "text/plain": [
       "          username             user_id  url_count  protected  followers_count  \\\n",
       "0       castolosan           251924369        0.0      False              704   \n",
       "1  mostafa_albana_           229952696        1.0      False              561   \n",
       "2         Smrdas85  926455288089026561        1.0      False              237   \n",
       "3      denisniskim          2901993755        1.0      False               63   \n",
       "4     BHARGAVAANIL           135140166        0.0      False             1024   \n",
       "\n",
       "   friends_count  user_created_at  user_favourites_count  geo_enabled  \\\n",
       "0           4229             2011                   1116        False   \n",
       "1           2266             2010                    258        False   \n",
       "2           1725             2017                   8169         True   \n",
       "3           1155             2014                    312        False   \n",
       "4           3465             2010                   1921         True   \n",
       "\n",
       "   veified  ...  machine learning  deep learning  engineer  data science  \\\n",
       "0    False  ...                 0              0         0             0   \n",
       "1    False  ...                 0              0         1             0   \n",
       "2    False  ...                 0              0         1             0   \n",
       "3    False  ...                 0              0         0             0   \n",
       "4    False  ...                 0              0         0             0   \n",
       "\n",
       "   artificial intelligence  nlp  cs  computers  follow  followback  \n",
       "0                        0    0   0          0       0           0  \n",
       "1                        0    0   0          0       0           0  \n",
       "2                        0    0   1          0       0           0  \n",
       "3                        0    0   0          0       0           0  \n",
       "4                        0    0   1          0       0           0  \n",
       "\n",
       "[5 rows x 26 columns]"
      ]
     },
     "execution_count": 13,
     "metadata": {},
     "output_type": "execute_result"
    }
   ],
   "source": [
    "df.head()"
   ]
  },
  {
   "cell_type": "code",
   "execution_count": 14,
   "metadata": {},
   "outputs": [
    {
     "data": {
      "text/html": [
       "<div>\n",
       "<style scoped>\n",
       "    .dataframe tbody tr th:only-of-type {\n",
       "        vertical-align: middle;\n",
       "    }\n",
       "\n",
       "    .dataframe tbody tr th {\n",
       "        vertical-align: top;\n",
       "    }\n",
       "\n",
       "    .dataframe thead th {\n",
       "        text-align: right;\n",
       "    }\n",
       "</style>\n",
       "<table border=\"1\" class=\"dataframe\">\n",
       "  <thead>\n",
       "    <tr style=\"text-align: right;\">\n",
       "      <th></th>\n",
       "      <th>url_count</th>\n",
       "      <th>followers_count</th>\n",
       "      <th>friends_count</th>\n",
       "      <th>user_created_at</th>\n",
       "      <th>user_favourites_count</th>\n",
       "      <th>geo_enabled</th>\n",
       "      <th>veified</th>\n",
       "      <th>user_statuses_count</th>\n",
       "      <th>contributors_enabled</th>\n",
       "      <th>translation_enabled</th>\n",
       "      <th>...</th>\n",
       "      <th>machine learning</th>\n",
       "      <th>deep learning</th>\n",
       "      <th>engineer</th>\n",
       "      <th>data science</th>\n",
       "      <th>artificial intelligence</th>\n",
       "      <th>nlp</th>\n",
       "      <th>cs</th>\n",
       "      <th>computers</th>\n",
       "      <th>follow</th>\n",
       "      <th>followback</th>\n",
       "    </tr>\n",
       "  </thead>\n",
       "  <tbody>\n",
       "    <tr>\n",
       "      <th>0</th>\n",
       "      <td>0.0</td>\n",
       "      <td>704</td>\n",
       "      <td>4229</td>\n",
       "      <td>2011</td>\n",
       "      <td>1116</td>\n",
       "      <td>False</td>\n",
       "      <td>False</td>\n",
       "      <td>2857</td>\n",
       "      <td>False</td>\n",
       "      <td>False</td>\n",
       "      <td>...</td>\n",
       "      <td>0</td>\n",
       "      <td>0</td>\n",
       "      <td>0</td>\n",
       "      <td>0</td>\n",
       "      <td>0</td>\n",
       "      <td>0</td>\n",
       "      <td>0</td>\n",
       "      <td>0</td>\n",
       "      <td>0</td>\n",
       "      <td>0</td>\n",
       "    </tr>\n",
       "    <tr>\n",
       "      <th>1</th>\n",
       "      <td>1.0</td>\n",
       "      <td>561</td>\n",
       "      <td>2266</td>\n",
       "      <td>2010</td>\n",
       "      <td>258</td>\n",
       "      <td>False</td>\n",
       "      <td>False</td>\n",
       "      <td>260</td>\n",
       "      <td>False</td>\n",
       "      <td>False</td>\n",
       "      <td>...</td>\n",
       "      <td>0</td>\n",
       "      <td>0</td>\n",
       "      <td>1</td>\n",
       "      <td>0</td>\n",
       "      <td>0</td>\n",
       "      <td>0</td>\n",
       "      <td>0</td>\n",
       "      <td>0</td>\n",
       "      <td>0</td>\n",
       "      <td>0</td>\n",
       "    </tr>\n",
       "    <tr>\n",
       "      <th>2</th>\n",
       "      <td>1.0</td>\n",
       "      <td>237</td>\n",
       "      <td>1725</td>\n",
       "      <td>2017</td>\n",
       "      <td>8169</td>\n",
       "      <td>True</td>\n",
       "      <td>False</td>\n",
       "      <td>3486</td>\n",
       "      <td>False</td>\n",
       "      <td>False</td>\n",
       "      <td>...</td>\n",
       "      <td>0</td>\n",
       "      <td>0</td>\n",
       "      <td>1</td>\n",
       "      <td>0</td>\n",
       "      <td>0</td>\n",
       "      <td>0</td>\n",
       "      <td>1</td>\n",
       "      <td>0</td>\n",
       "      <td>0</td>\n",
       "      <td>0</td>\n",
       "    </tr>\n",
       "    <tr>\n",
       "      <th>3</th>\n",
       "      <td>1.0</td>\n",
       "      <td>63</td>\n",
       "      <td>1155</td>\n",
       "      <td>2014</td>\n",
       "      <td>312</td>\n",
       "      <td>False</td>\n",
       "      <td>False</td>\n",
       "      <td>117</td>\n",
       "      <td>False</td>\n",
       "      <td>False</td>\n",
       "      <td>...</td>\n",
       "      <td>0</td>\n",
       "      <td>0</td>\n",
       "      <td>0</td>\n",
       "      <td>0</td>\n",
       "      <td>0</td>\n",
       "      <td>0</td>\n",
       "      <td>0</td>\n",
       "      <td>0</td>\n",
       "      <td>0</td>\n",
       "      <td>0</td>\n",
       "    </tr>\n",
       "    <tr>\n",
       "      <th>4</th>\n",
       "      <td>0.0</td>\n",
       "      <td>1024</td>\n",
       "      <td>3465</td>\n",
       "      <td>2010</td>\n",
       "      <td>1921</td>\n",
       "      <td>True</td>\n",
       "      <td>False</td>\n",
       "      <td>4722</td>\n",
       "      <td>False</td>\n",
       "      <td>False</td>\n",
       "      <td>...</td>\n",
       "      <td>0</td>\n",
       "      <td>0</td>\n",
       "      <td>0</td>\n",
       "      <td>0</td>\n",
       "      <td>0</td>\n",
       "      <td>0</td>\n",
       "      <td>1</td>\n",
       "      <td>0</td>\n",
       "      <td>0</td>\n",
       "      <td>0</td>\n",
       "    </tr>\n",
       "  </tbody>\n",
       "</table>\n",
       "<p>5 rows × 23 columns</p>\n",
       "</div>"
      ],
      "text/plain": [
       "   url_count  followers_count  friends_count  user_created_at  \\\n",
       "0        0.0              704           4229             2011   \n",
       "1        1.0              561           2266             2010   \n",
       "2        1.0              237           1725             2017   \n",
       "3        1.0               63           1155             2014   \n",
       "4        0.0             1024           3465             2010   \n",
       "\n",
       "   user_favourites_count  geo_enabled  veified  user_statuses_count  \\\n",
       "0                   1116        False    False                 2857   \n",
       "1                    258        False    False                  260   \n",
       "2                   8169         True    False                 3486   \n",
       "3                    312        False    False                  117   \n",
       "4                   1921         True    False                 4722   \n",
       "\n",
       "   contributors_enabled  translation_enabled  ...  machine learning  \\\n",
       "0                 False                False  ...                 0   \n",
       "1                 False                False  ...                 0   \n",
       "2                 False                False  ...                 0   \n",
       "3                 False                False  ...                 0   \n",
       "4                 False                False  ...                 0   \n",
       "\n",
       "   deep learning  engineer  data science  artificial intelligence  nlp  cs  \\\n",
       "0              0         0             0                        0    0   0   \n",
       "1              0         1             0                        0    0   0   \n",
       "2              0         1             0                        0    0   1   \n",
       "3              0         0             0                        0    0   0   \n",
       "4              0         0             0                        0    0   1   \n",
       "\n",
       "   computers  follow  followback  \n",
       "0          0       0           0  \n",
       "1          0       0           0  \n",
       "2          0       0           0  \n",
       "3          0       0           0  \n",
       "4          0       0           0  \n",
       "\n",
       "[5 rows x 23 columns]"
      ]
     },
     "execution_count": 14,
     "metadata": {},
     "output_type": "execute_result"
    }
   ],
   "source": [
    "# These columns have either large number of unique Values or a single value for all the obeservations. \n",
    "df.drop(['username','user_id','protected'],axis=1,inplace=True)\n",
    "df.head()"
   ]
  },
  {
   "cell_type": "code",
   "execution_count": 15,
   "metadata": {},
   "outputs": [],
   "source": [
    "# First converting them to 'object' type\n",
    "df['geo_enabled'] = df['geo_enabled'].astype(str)\n",
    "df['veified'] = df['veified'].astype(str)\n",
    "df['contributors_enabled'] = df['contributors_enabled'].astype(str)\n",
    "df['translation_enabled'] = df['translation_enabled'].astype(str)"
   ]
  },
  {
   "cell_type": "code",
   "execution_count": 16,
   "metadata": {},
   "outputs": [],
   "source": [
    "# Mapping True with 1 and False with 0\n",
    "df.geo_enabled.replace(['True','False'],[1, 0],inplace=True)\n",
    "df.veified.replace(['True','False'],[1, 0],inplace=True)\n",
    "df.contributors_enabled.replace(['True','False'],[1, 0],inplace=True)\n",
    "df.translation_enabled.replace(['True','False'],[1, 0],inplace=True)"
   ]
  },
  {
   "cell_type": "code",
   "execution_count": null,
   "metadata": {},
   "outputs": [],
   "source": []
  },
  {
   "cell_type": "markdown",
   "metadata": {},
   "source": [
    "# Cross validation split "
   ]
  },
  {
   "cell_type": "code",
   "execution_count": null,
   "metadata": {},
   "outputs": [],
   "source": []
  },
  {
   "cell_type": "code",
   "execution_count": 17,
   "metadata": {},
   "outputs": [],
   "source": [
    "X = df.drop(['user_follows_me'],axis=1)\n",
    "y = df['user_follows_me']"
   ]
  },
  {
   "cell_type": "code",
   "execution_count": null,
   "metadata": {},
   "outputs": [],
   "source": []
  },
  {
   "cell_type": "code",
   "execution_count": null,
   "metadata": {},
   "outputs": [],
   "source": []
  },
  {
   "cell_type": "code",
   "execution_count": null,
   "metadata": {},
   "outputs": [],
   "source": []
  },
  {
   "cell_type": "code",
   "execution_count": 18,
   "metadata": {},
   "outputs": [],
   "source": [
    "from sklearn.model_selection import train_test_split\n",
    "\n",
    "X_train,X_test,y_train,y_test = train_test_split(X,y,test_size = 0.25,shuffle=True,random_state=27)"
   ]
  },
  {
   "cell_type": "code",
   "execution_count": 19,
   "metadata": {},
   "outputs": [
    {
     "data": {
      "text/plain": [
       "((1462, 22), (488, 22), (1462,), (488,))"
      ]
     },
     "execution_count": 19,
     "metadata": {},
     "output_type": "execute_result"
    }
   ],
   "source": [
    "X_train.shape,X_test.shape,y_train.shape,y_test.shape"
   ]
  },
  {
   "cell_type": "code",
   "execution_count": 20,
   "metadata": {},
   "outputs": [
    {
     "data": {
      "text/plain": [
       "0    1258\n",
       "1     204\n",
       "Name: user_follows_me, dtype: int64"
      ]
     },
     "execution_count": 20,
     "metadata": {},
     "output_type": "execute_result"
    }
   ],
   "source": [
    "y_train.value_counts()"
   ]
  },
  {
   "cell_type": "code",
   "execution_count": 21,
   "metadata": {},
   "outputs": [
    {
     "data": {
      "text/plain": [
       "0    421\n",
       "1     67\n",
       "Name: user_follows_me, dtype: int64"
      ]
     },
     "execution_count": 21,
     "metadata": {},
     "output_type": "execute_result"
    }
   ],
   "source": [
    "y_test.value_counts()"
   ]
  },
  {
   "cell_type": "code",
   "execution_count": null,
   "metadata": {},
   "outputs": [],
   "source": []
  },
  {
   "cell_type": "code",
   "execution_count": 22,
   "metadata": {},
   "outputs": [
    {
     "data": {
      "text/html": [
       "<div>\n",
       "<style scoped>\n",
       "    .dataframe tbody tr th:only-of-type {\n",
       "        vertical-align: middle;\n",
       "    }\n",
       "\n",
       "    .dataframe tbody tr th {\n",
       "        vertical-align: top;\n",
       "    }\n",
       "\n",
       "    .dataframe thead th {\n",
       "        text-align: right;\n",
       "    }\n",
       "</style>\n",
       "<table border=\"1\" class=\"dataframe\">\n",
       "  <thead>\n",
       "    <tr style=\"text-align: right;\">\n",
       "      <th></th>\n",
       "      <th>url_count</th>\n",
       "      <th>followers_count</th>\n",
       "      <th>friends_count</th>\n",
       "      <th>user_created_at</th>\n",
       "      <th>user_favourites_count</th>\n",
       "      <th>geo_enabled</th>\n",
       "      <th>veified</th>\n",
       "      <th>user_statuses_count</th>\n",
       "      <th>contributors_enabled</th>\n",
       "      <th>translation_enabled</th>\n",
       "      <th>...</th>\n",
       "      <th>machine learning</th>\n",
       "      <th>deep learning</th>\n",
       "      <th>engineer</th>\n",
       "      <th>data science</th>\n",
       "      <th>artificial intelligence</th>\n",
       "      <th>nlp</th>\n",
       "      <th>cs</th>\n",
       "      <th>computers</th>\n",
       "      <th>follow</th>\n",
       "      <th>followback</th>\n",
       "    </tr>\n",
       "  </thead>\n",
       "  <tbody>\n",
       "    <tr>\n",
       "      <th>788</th>\n",
       "      <td>1.0</td>\n",
       "      <td>2240</td>\n",
       "      <td>630</td>\n",
       "      <td>2009</td>\n",
       "      <td>2654</td>\n",
       "      <td>1</td>\n",
       "      <td>0</td>\n",
       "      <td>37910</td>\n",
       "      <td>0</td>\n",
       "      <td>0</td>\n",
       "      <td>...</td>\n",
       "      <td>0</td>\n",
       "      <td>0</td>\n",
       "      <td>1</td>\n",
       "      <td>0</td>\n",
       "      <td>0</td>\n",
       "      <td>0</td>\n",
       "      <td>0</td>\n",
       "      <td>0</td>\n",
       "      <td>0</td>\n",
       "      <td>0</td>\n",
       "    </tr>\n",
       "    <tr>\n",
       "      <th>591</th>\n",
       "      <td>1.0</td>\n",
       "      <td>604</td>\n",
       "      <td>577</td>\n",
       "      <td>2009</td>\n",
       "      <td>280</td>\n",
       "      <td>1</td>\n",
       "      <td>0</td>\n",
       "      <td>5467</td>\n",
       "      <td>0</td>\n",
       "      <td>0</td>\n",
       "      <td>...</td>\n",
       "      <td>0</td>\n",
       "      <td>0</td>\n",
       "      <td>0</td>\n",
       "      <td>1</td>\n",
       "      <td>0</td>\n",
       "      <td>0</td>\n",
       "      <td>0</td>\n",
       "      <td>0</td>\n",
       "      <td>0</td>\n",
       "      <td>0</td>\n",
       "    </tr>\n",
       "    <tr>\n",
       "      <th>1765</th>\n",
       "      <td>0.0</td>\n",
       "      <td>18369</td>\n",
       "      <td>17670</td>\n",
       "      <td>2014</td>\n",
       "      <td>1821</td>\n",
       "      <td>0</td>\n",
       "      <td>0</td>\n",
       "      <td>2328</td>\n",
       "      <td>0</td>\n",
       "      <td>0</td>\n",
       "      <td>...</td>\n",
       "      <td>0</td>\n",
       "      <td>0</td>\n",
       "      <td>0</td>\n",
       "      <td>0</td>\n",
       "      <td>0</td>\n",
       "      <td>0</td>\n",
       "      <td>0</td>\n",
       "      <td>0</td>\n",
       "      <td>0</td>\n",
       "      <td>0</td>\n",
       "    </tr>\n",
       "    <tr>\n",
       "      <th>1517</th>\n",
       "      <td>0.0</td>\n",
       "      <td>198</td>\n",
       "      <td>1094</td>\n",
       "      <td>2017</td>\n",
       "      <td>136</td>\n",
       "      <td>0</td>\n",
       "      <td>0</td>\n",
       "      <td>52</td>\n",
       "      <td>0</td>\n",
       "      <td>0</td>\n",
       "      <td>...</td>\n",
       "      <td>0</td>\n",
       "      <td>0</td>\n",
       "      <td>0</td>\n",
       "      <td>0</td>\n",
       "      <td>0</td>\n",
       "      <td>0</td>\n",
       "      <td>0</td>\n",
       "      <td>0</td>\n",
       "      <td>0</td>\n",
       "      <td>0</td>\n",
       "    </tr>\n",
       "    <tr>\n",
       "      <th>757</th>\n",
       "      <td>1.0</td>\n",
       "      <td>6564</td>\n",
       "      <td>4276</td>\n",
       "      <td>2011</td>\n",
       "      <td>4515</td>\n",
       "      <td>1</td>\n",
       "      <td>0</td>\n",
       "      <td>5679</td>\n",
       "      <td>0</td>\n",
       "      <td>0</td>\n",
       "      <td>...</td>\n",
       "      <td>0</td>\n",
       "      <td>0</td>\n",
       "      <td>1</td>\n",
       "      <td>0</td>\n",
       "      <td>0</td>\n",
       "      <td>0</td>\n",
       "      <td>1</td>\n",
       "      <td>0</td>\n",
       "      <td>0</td>\n",
       "      <td>0</td>\n",
       "    </tr>\n",
       "  </tbody>\n",
       "</table>\n",
       "<p>5 rows × 22 columns</p>\n",
       "</div>"
      ],
      "text/plain": [
       "      url_count  followers_count  friends_count  user_created_at  \\\n",
       "788         1.0             2240            630             2009   \n",
       "591         1.0              604            577             2009   \n",
       "1765        0.0            18369          17670             2014   \n",
       "1517        0.0              198           1094             2017   \n",
       "757         1.0             6564           4276             2011   \n",
       "\n",
       "      user_favourites_count  geo_enabled  veified  user_statuses_count  \\\n",
       "788                    2654            1        0                37910   \n",
       "591                     280            1        0                 5467   \n",
       "1765                   1821            0        0                 2328   \n",
       "1517                    136            0        0                   52   \n",
       "757                    4515            1        0                 5679   \n",
       "\n",
       "      contributors_enabled  translation_enabled  ...  machine learning  \\\n",
       "788                      0                    0  ...                 0   \n",
       "591                      0                    0  ...                 0   \n",
       "1765                     0                    0  ...                 0   \n",
       "1517                     0                    0  ...                 0   \n",
       "757                      0                    0  ...                 0   \n",
       "\n",
       "      deep learning  engineer  data science  artificial intelligence  nlp  cs  \\\n",
       "788               0         1             0                        0    0   0   \n",
       "591               0         0             1                        0    0   0   \n",
       "1765              0         0             0                        0    0   0   \n",
       "1517              0         0             0                        0    0   0   \n",
       "757               0         1             0                        0    0   1   \n",
       "\n",
       "      computers  follow  followback  \n",
       "788           0       0           0  \n",
       "591           0       0           0  \n",
       "1765          0       0           0  \n",
       "1517          0       0           0  \n",
       "757           0       0           0  \n",
       "\n",
       "[5 rows x 22 columns]"
      ]
     },
     "execution_count": 22,
     "metadata": {},
     "output_type": "execute_result"
    }
   ],
   "source": [
    "X_train.head()"
   ]
  },
  {
   "cell_type": "markdown",
   "metadata": {},
   "source": [
    "# Random Forest Classifier"
   ]
  },
  {
   "cell_type": "code",
   "execution_count": 23,
   "metadata": {},
   "outputs": [],
   "source": [
    "from sklearn.ensemble import RandomForestClassifier"
   ]
  },
  {
   "cell_type": "code",
   "execution_count": 24,
   "metadata": {},
   "outputs": [
    {
     "data": {
      "text/plain": [
       "RandomForestClassifier(bootstrap=True, class_weight=None, criterion='gini',\n",
       "                       max_depth=None, max_features='auto', max_leaf_nodes=None,\n",
       "                       min_impurity_decrease=0.0, min_impurity_split=None,\n",
       "                       min_samples_leaf=1, min_samples_split=2,\n",
       "                       min_weight_fraction_leaf=0.0, n_estimators=10,\n",
       "                       n_jobs=None, oob_score=False, random_state=None,\n",
       "                       verbose=0, warm_start=False)"
      ]
     },
     "execution_count": 24,
     "metadata": {},
     "output_type": "execute_result"
    }
   ],
   "source": [
    "RFC = RandomForestClassifier()\n",
    "RFC.fit(X_train,y_train)"
   ]
  },
  {
   "cell_type": "code",
   "execution_count": 25,
   "metadata": {},
   "outputs": [
    {
     "data": {
      "text/plain": [
       "0.8586065573770492"
      ]
     },
     "execution_count": 25,
     "metadata": {},
     "output_type": "execute_result"
    }
   ],
   "source": [
    "predictions_RFC = RFC.predict(X_test)\n",
    "\n",
    "metrics.accuracy_score(y_test,predictions_RFC)"
   ]
  },
  {
   "cell_type": "code",
   "execution_count": 26,
   "metadata": {},
   "outputs": [
    {
     "data": {
      "text/plain": [
       "0.05479452054794521"
      ]
     },
     "execution_count": 26,
     "metadata": {},
     "output_type": "execute_result"
    }
   ],
   "source": [
    "metrics.f1_score(y_test,predictions_RFC)"
   ]
  },
  {
   "cell_type": "code",
   "execution_count": 27,
   "metadata": {},
   "outputs": [
    {
     "name": "stdout",
     "output_type": "stream",
     "text": [
      "              precision    recall  f1-score   support\n",
      "\n",
      "           0       0.87      0.99      0.92       421\n",
      "           1       0.33      0.03      0.05        67\n",
      "\n",
      "    accuracy                           0.86       488\n",
      "   macro avg       0.60      0.51      0.49       488\n",
      "weighted avg       0.79      0.86      0.80       488\n",
      "\n"
     ]
    }
   ],
   "source": [
    "print(metrics.classification_report(y_test,predictions_RFC))"
   ]
  },
  {
   "cell_type": "markdown",
   "metadata": {},
   "source": [
    "# Logistic Regression"
   ]
  },
  {
   "cell_type": "code",
   "execution_count": 28,
   "metadata": {},
   "outputs": [],
   "source": [
    "from sklearn.linear_model import LogisticRegression"
   ]
  },
  {
   "cell_type": "code",
   "execution_count": 29,
   "metadata": {},
   "outputs": [
    {
     "data": {
      "text/plain": [
       "LogisticRegression(C=1.0, class_weight=None, dual=False, fit_intercept=True,\n",
       "                   intercept_scaling=1, l1_ratio=None, max_iter=100,\n",
       "                   multi_class='warn', n_jobs=None, penalty='l2',\n",
       "                   random_state=None, solver='warn', tol=0.0001, verbose=0,\n",
       "                   warm_start=False)"
      ]
     },
     "execution_count": 29,
     "metadata": {},
     "output_type": "execute_result"
    }
   ],
   "source": [
    "LR = LogisticRegression()\n",
    "LR.fit(X_train,y_train)"
   ]
  },
  {
   "cell_type": "code",
   "execution_count": 30,
   "metadata": {},
   "outputs": [
    {
     "data": {
      "text/plain": [
       "0.8627049180327869"
      ]
     },
     "execution_count": 30,
     "metadata": {},
     "output_type": "execute_result"
    }
   ],
   "source": [
    "predictions_LR = LR.predict(X_test)\n",
    "\n",
    "metrics.accuracy_score(y_test,predictions_LR)"
   ]
  },
  {
   "cell_type": "code",
   "execution_count": 31,
   "metadata": {},
   "outputs": [
    {
     "data": {
      "text/plain": [
       "0.0"
      ]
     },
     "execution_count": 31,
     "metadata": {},
     "output_type": "execute_result"
    }
   ],
   "source": [
    "metrics.f1_score(y_test,predictions_LR)"
   ]
  },
  {
   "cell_type": "code",
   "execution_count": 32,
   "metadata": {},
   "outputs": [
    {
     "name": "stdout",
     "output_type": "stream",
     "text": [
      "              precision    recall  f1-score   support\n",
      "\n",
      "           0       0.86      1.00      0.93       421\n",
      "           1       0.00      0.00      0.00        67\n",
      "\n",
      "    accuracy                           0.86       488\n",
      "   macro avg       0.43      0.50      0.46       488\n",
      "weighted avg       0.74      0.86      0.80       488\n",
      "\n"
     ]
    }
   ],
   "source": [
    "print(metrics.classification_report(y_test,predictions_LR))"
   ]
  },
  {
   "cell_type": "markdown",
   "metadata": {},
   "source": [
    "# Feature Selection "
   ]
  },
  {
   "cell_type": "code",
   "execution_count": 33,
   "metadata": {},
   "outputs": [
    {
     "data": {
      "text/html": [
       "<div>\n",
       "<style scoped>\n",
       "    .dataframe tbody tr th:only-of-type {\n",
       "        vertical-align: middle;\n",
       "    }\n",
       "\n",
       "    .dataframe tbody tr th {\n",
       "        vertical-align: top;\n",
       "    }\n",
       "\n",
       "    .dataframe thead th {\n",
       "        text-align: right;\n",
       "    }\n",
       "</style>\n",
       "<table border=\"1\" class=\"dataframe\">\n",
       "  <thead>\n",
       "    <tr style=\"text-align: right;\">\n",
       "      <th></th>\n",
       "      <th>Columns</th>\n",
       "      <th>importances</th>\n",
       "    </tr>\n",
       "  </thead>\n",
       "  <tbody>\n",
       "    <tr>\n",
       "      <th>0</th>\n",
       "      <td>url_count</td>\n",
       "      <td>1.901601</td>\n",
       "    </tr>\n",
       "    <tr>\n",
       "      <th>1</th>\n",
       "      <td>followers_count</td>\n",
       "      <td>18.869331</td>\n",
       "    </tr>\n",
       "    <tr>\n",
       "      <th>2</th>\n",
       "      <td>friends_count</td>\n",
       "      <td>20.018639</td>\n",
       "    </tr>\n",
       "    <tr>\n",
       "      <th>3</th>\n",
       "      <td>user_created_at</td>\n",
       "      <td>9.015546</td>\n",
       "    </tr>\n",
       "    <tr>\n",
       "      <th>4</th>\n",
       "      <td>user_favourites_count</td>\n",
       "      <td>19.508345</td>\n",
       "    </tr>\n",
       "    <tr>\n",
       "      <th>5</th>\n",
       "      <td>geo_enabled</td>\n",
       "      <td>2.074601</td>\n",
       "    </tr>\n",
       "    <tr>\n",
       "      <th>6</th>\n",
       "      <td>veified</td>\n",
       "      <td>0.091974</td>\n",
       "    </tr>\n",
       "    <tr>\n",
       "      <th>7</th>\n",
       "      <td>user_statuses_count</td>\n",
       "      <td>19.493289</td>\n",
       "    </tr>\n",
       "    <tr>\n",
       "      <th>8</th>\n",
       "      <td>contributors_enabled</td>\n",
       "      <td>0.000000</td>\n",
       "    </tr>\n",
       "    <tr>\n",
       "      <th>9</th>\n",
       "      <td>translation_enabled</td>\n",
       "      <td>0.137421</td>\n",
       "    </tr>\n",
       "    <tr>\n",
       "      <th>10</th>\n",
       "      <td>user_is_friend</td>\n",
       "      <td>0.000000</td>\n",
       "    </tr>\n",
       "    <tr>\n",
       "      <th>11</th>\n",
       "      <td>python</td>\n",
       "      <td>1.503589</td>\n",
       "    </tr>\n",
       "    <tr>\n",
       "      <th>12</th>\n",
       "      <td>machine learning</td>\n",
       "      <td>1.047724</td>\n",
       "    </tr>\n",
       "    <tr>\n",
       "      <th>13</th>\n",
       "      <td>deep learning</td>\n",
       "      <td>0.371584</td>\n",
       "    </tr>\n",
       "    <tr>\n",
       "      <th>14</th>\n",
       "      <td>engineer</td>\n",
       "      <td>1.306950</td>\n",
       "    </tr>\n",
       "    <tr>\n",
       "      <th>15</th>\n",
       "      <td>data science</td>\n",
       "      <td>0.894546</td>\n",
       "    </tr>\n",
       "    <tr>\n",
       "      <th>16</th>\n",
       "      <td>artificial intelligence</td>\n",
       "      <td>0.832439</td>\n",
       "    </tr>\n",
       "    <tr>\n",
       "      <th>17</th>\n",
       "      <td>nlp</td>\n",
       "      <td>0.430216</td>\n",
       "    </tr>\n",
       "    <tr>\n",
       "      <th>18</th>\n",
       "      <td>cs</td>\n",
       "      <td>1.445186</td>\n",
       "    </tr>\n",
       "    <tr>\n",
       "      <th>19</th>\n",
       "      <td>computers</td>\n",
       "      <td>0.505003</td>\n",
       "    </tr>\n",
       "    <tr>\n",
       "      <th>20</th>\n",
       "      <td>follow</td>\n",
       "      <td>0.552016</td>\n",
       "    </tr>\n",
       "    <tr>\n",
       "      <th>21</th>\n",
       "      <td>followback</td>\n",
       "      <td>0.000000</td>\n",
       "    </tr>\n",
       "  </tbody>\n",
       "</table>\n",
       "</div>"
      ],
      "text/plain": [
       "                    Columns  importances\n",
       "0                 url_count     1.901601\n",
       "1           followers_count    18.869331\n",
       "2             friends_count    20.018639\n",
       "3           user_created_at     9.015546\n",
       "4     user_favourites_count    19.508345\n",
       "5               geo_enabled     2.074601\n",
       "6                   veified     0.091974\n",
       "7       user_statuses_count    19.493289\n",
       "8      contributors_enabled     0.000000\n",
       "9       translation_enabled     0.137421\n",
       "10           user_is_friend     0.000000\n",
       "11                   python     1.503589\n",
       "12         machine learning     1.047724\n",
       "13            deep learning     0.371584\n",
       "14                 engineer     1.306950\n",
       "15             data science     0.894546\n",
       "16  artificial intelligence     0.832439\n",
       "17                      nlp     0.430216\n",
       "18                       cs     1.445186\n",
       "19                computers     0.505003\n",
       "20                   follow     0.552016\n",
       "21               followback     0.000000"
      ]
     },
     "execution_count": 33,
     "metadata": {},
     "output_type": "execute_result"
    }
   ],
   "source": [
    "Important = pd.DataFrame({'Columns':X.columns,'importances':RFC.feature_importances_*100})\n",
    "Important"
   ]
  },
  {
   "cell_type": "code",
   "execution_count": 34,
   "metadata": {},
   "outputs": [
    {
     "data": {
      "text/plain": [
       "['followers_count',\n",
       " 'friends_count',\n",
       " 'user_created_at',\n",
       " 'user_favourites_count',\n",
       " 'geo_enabled',\n",
       " 'user_statuses_count']"
      ]
     },
     "execution_count": 34,
     "metadata": {},
     "output_type": "execute_result"
    }
   ],
   "source": [
    "list(Important[Important['importances']>2]['Columns'])"
   ]
  },
  {
   "cell_type": "code",
   "execution_count": 35,
   "metadata": {},
   "outputs": [
    {
     "data": {
      "text/html": [
       "<div>\n",
       "<style scoped>\n",
       "    .dataframe tbody tr th:only-of-type {\n",
       "        vertical-align: middle;\n",
       "    }\n",
       "\n",
       "    .dataframe tbody tr th {\n",
       "        vertical-align: top;\n",
       "    }\n",
       "\n",
       "    .dataframe thead th {\n",
       "        text-align: right;\n",
       "    }\n",
       "</style>\n",
       "<table border=\"1\" class=\"dataframe\">\n",
       "  <thead>\n",
       "    <tr style=\"text-align: right;\">\n",
       "      <th></th>\n",
       "      <th>followers_count</th>\n",
       "      <th>friends_count</th>\n",
       "      <th>user_created_at</th>\n",
       "      <th>user_favourites_count</th>\n",
       "      <th>geo_enabled</th>\n",
       "      <th>user_statuses_count</th>\n",
       "    </tr>\n",
       "  </thead>\n",
       "  <tbody>\n",
       "    <tr>\n",
       "      <th>0</th>\n",
       "      <td>704</td>\n",
       "      <td>4229</td>\n",
       "      <td>2011</td>\n",
       "      <td>1116</td>\n",
       "      <td>0</td>\n",
       "      <td>2857</td>\n",
       "    </tr>\n",
       "    <tr>\n",
       "      <th>1</th>\n",
       "      <td>561</td>\n",
       "      <td>2266</td>\n",
       "      <td>2010</td>\n",
       "      <td>258</td>\n",
       "      <td>0</td>\n",
       "      <td>260</td>\n",
       "    </tr>\n",
       "    <tr>\n",
       "      <th>2</th>\n",
       "      <td>237</td>\n",
       "      <td>1725</td>\n",
       "      <td>2017</td>\n",
       "      <td>8169</td>\n",
       "      <td>1</td>\n",
       "      <td>3486</td>\n",
       "    </tr>\n",
       "    <tr>\n",
       "      <th>3</th>\n",
       "      <td>63</td>\n",
       "      <td>1155</td>\n",
       "      <td>2014</td>\n",
       "      <td>312</td>\n",
       "      <td>0</td>\n",
       "      <td>117</td>\n",
       "    </tr>\n",
       "    <tr>\n",
       "      <th>4</th>\n",
       "      <td>1024</td>\n",
       "      <td>3465</td>\n",
       "      <td>2010</td>\n",
       "      <td>1921</td>\n",
       "      <td>1</td>\n",
       "      <td>4722</td>\n",
       "    </tr>\n",
       "  </tbody>\n",
       "</table>\n",
       "</div>"
      ],
      "text/plain": [
       "   followers_count  friends_count  user_created_at  user_favourites_count  \\\n",
       "0              704           4229             2011                   1116   \n",
       "1              561           2266             2010                    258   \n",
       "2              237           1725             2017                   8169   \n",
       "3               63           1155             2014                    312   \n",
       "4             1024           3465             2010                   1921   \n",
       "\n",
       "   geo_enabled  user_statuses_count  \n",
       "0            0                 2857  \n",
       "1            0                  260  \n",
       "2            1                 3486  \n",
       "3            0                  117  \n",
       "4            1                 4722  "
      ]
     },
     "execution_count": 35,
     "metadata": {},
     "output_type": "execute_result"
    }
   ],
   "source": [
    "New_X = X.loc[:,list(Important[Important['importances']>2]['Columns'])\n",
    "             ]\n",
    "New_X.head()"
   ]
  },
  {
   "cell_type": "code",
   "execution_count": 36,
   "metadata": {},
   "outputs": [
    {
     "data": {
      "text/plain": [
       "((1462, 6), (1462,), (488, 6), (488,))"
      ]
     },
     "execution_count": 36,
     "metadata": {},
     "output_type": "execute_result"
    }
   ],
   "source": [
    "X_train,X_test,y_train,y_test = train_test_split(New_X,y,test_size=0.25,random_state=27) \n",
    "X_train.shape,y_train.shape,X_test.shape,y_test.shape"
   ]
  },
  {
   "cell_type": "code",
   "execution_count": null,
   "metadata": {},
   "outputs": [],
   "source": []
  },
  {
   "cell_type": "code",
   "execution_count": null,
   "metadata": {},
   "outputs": [],
   "source": []
  },
  {
   "cell_type": "markdown",
   "metadata": {},
   "source": [
    "# Upsampling"
   ]
  },
  {
   "cell_type": "code",
   "execution_count": 37,
   "metadata": {},
   "outputs": [],
   "source": [
    "from sklearn.utils import resample"
   ]
  },
  {
   "cell_type": "code",
   "execution_count": 38,
   "metadata": {},
   "outputs": [
    {
     "data": {
      "text/plain": [
       "((1462, 6), (1462,), (488, 6), (488,))"
      ]
     },
     "execution_count": 38,
     "metadata": {},
     "output_type": "execute_result"
    }
   ],
   "source": [
    "X_train.shape,y_train.shape,X_test.shape,y_test.shape"
   ]
  },
  {
   "cell_type": "code",
   "execution_count": 39,
   "metadata": {},
   "outputs": [],
   "source": [
    "X = pd.concat([X_train, y_train], axis=1)\n",
    "\n",
    "# separate minority and majority classes\n",
    "not_following = X[X.user_follows_me==0]\n",
    "following = X[X.user_follows_me==1]\n",
    "\n",
    "# upsample minority\n",
    "following_upsampled = resample(following,\n",
    "                          replace=True, # sample with replacement\n",
    "                          n_samples=len(not_following), # match number in majority class\n",
    "                          random_state=27) # reproducible results\n"
   ]
  },
  {
   "cell_type": "code",
   "execution_count": 40,
   "metadata": {},
   "outputs": [
    {
     "data": {
      "text/plain": [
       "1    1258\n",
       "0    1258\n",
       "Name: user_follows_me, dtype: int64"
      ]
     },
     "execution_count": 40,
     "metadata": {},
     "output_type": "execute_result"
    }
   ],
   "source": [
    "# combine majority and upsampled minority\n",
    "upsampled = pd.concat([not_following, following_upsampled])\n",
    "\n",
    "# check new class counts\n",
    "upsampled.user_follows_me.value_counts()\n",
    "   "
   ]
  },
  {
   "cell_type": "code",
   "execution_count": 41,
   "metadata": {},
   "outputs": [],
   "source": [
    "X_train = upsampled.drop(['user_follows_me'],axis=1)\n",
    "y_train = upsampled.loc[:,['user_follows_me']]\n"
   ]
  },
  {
   "cell_type": "code",
   "execution_count": 42,
   "metadata": {},
   "outputs": [
    {
     "data": {
      "text/plain": [
       "((2516, 6), (2516, 1))"
      ]
     },
     "execution_count": 42,
     "metadata": {},
     "output_type": "execute_result"
    }
   ],
   "source": [
    "X_train.shape,y_train.shape"
   ]
  },
  {
   "cell_type": "code",
   "execution_count": null,
   "metadata": {},
   "outputs": [],
   "source": []
  },
  {
   "cell_type": "code",
   "execution_count": 43,
   "metadata": {},
   "outputs": [],
   "source": [
    "# Random Forest After Resampling"
   ]
  },
  {
   "cell_type": "code",
   "execution_count": 44,
   "metadata": {},
   "outputs": [
    {
     "data": {
      "text/plain": [
       "RandomForestClassifier(bootstrap=True, class_weight=None, criterion='gini',\n",
       "                       max_depth=None, max_features='auto', max_leaf_nodes=None,\n",
       "                       min_impurity_decrease=0.0, min_impurity_split=None,\n",
       "                       min_samples_leaf=1, min_samples_split=2,\n",
       "                       min_weight_fraction_leaf=0.0, n_estimators=10,\n",
       "                       n_jobs=None, oob_score=False, random_state=None,\n",
       "                       verbose=0, warm_start=False)"
      ]
     },
     "execution_count": 44,
     "metadata": {},
     "output_type": "execute_result"
    }
   ],
   "source": [
    "RFC_1 = RandomForestClassifier()\n",
    "RFC_1.fit(X_train,y_train)"
   ]
  },
  {
   "cell_type": "code",
   "execution_count": 45,
   "metadata": {},
   "outputs": [
    {
     "name": "stdout",
     "output_type": "stream",
     "text": [
      "The Accuracy score is : 0.8237704918032787 \n",
      "The F1 Score is : 0.10416666666666666\n"
     ]
    }
   ],
   "source": [
    "predictions_RFC1 = RFC_1.predict(X_test)\n",
    "\n",
    "print(\"The Accuracy score is : {} \".format(metrics.accuracy_score(y_test,predictions_RFC1)))\n",
    "print(\"The F1 Score is : {}\".format(metrics.f1_score(y_test,predictions_RFC1)))"
   ]
  },
  {
   "cell_type": "code",
   "execution_count": 46,
   "metadata": {},
   "outputs": [
    {
     "name": "stdout",
     "output_type": "stream",
     "text": [
      "              precision    recall  f1-score   support\n",
      "\n",
      "           0       0.86      0.94      0.90       421\n",
      "           1       0.17      0.07      0.10        67\n",
      "\n",
      "    accuracy                           0.82       488\n",
      "   macro avg       0.52      0.51      0.50       488\n",
      "weighted avg       0.77      0.82      0.79       488\n",
      "\n"
     ]
    }
   ],
   "source": [
    "print(metrics.classification_report(y_test,predictions_RFC1))"
   ]
  },
  {
   "cell_type": "code",
   "execution_count": null,
   "metadata": {},
   "outputs": [],
   "source": []
  },
  {
   "cell_type": "code",
   "execution_count": 47,
   "metadata": {},
   "outputs": [],
   "source": [
    "# XGBoost after Upsampling "
   ]
  },
  {
   "cell_type": "code",
   "execution_count": 48,
   "metadata": {},
   "outputs": [],
   "source": [
    "from xgboost import XGBClassifier"
   ]
  },
  {
   "cell_type": "code",
   "execution_count": 49,
   "metadata": {},
   "outputs": [
    {
     "data": {
      "text/plain": [
       "XGBClassifier(base_score=0.5, booster='gbtree', colsample_bylevel=1,\n",
       "              colsample_bynode=1, colsample_bytree=1, gamma=0,\n",
       "              learning_rate=0.1, max_delta_step=0, max_depth=3,\n",
       "              min_child_weight=1, missing=None, n_estimators=100, n_jobs=1,\n",
       "              nthread=None, objective='binary:logistic', random_state=0,\n",
       "              reg_alpha=0, reg_lambda=1, scale_pos_weight=1, seed=None,\n",
       "              silent=None, subsample=1, verbosity=1)"
      ]
     },
     "execution_count": 49,
     "metadata": {},
     "output_type": "execute_result"
    }
   ],
   "source": [
    "XGB = XGBClassifier()\n",
    "XGB.fit(X_train,y_train)"
   ]
  },
  {
   "cell_type": "code",
   "execution_count": 50,
   "metadata": {},
   "outputs": [
    {
     "name": "stdout",
     "output_type": "stream",
     "text": [
      "The Accuracy score is : 0.6926229508196722 \n",
      "The F1 Score is : 0.3055555555555556\n"
     ]
    }
   ],
   "source": [
    "predictions_XGB = XGB.predict(X_test)\n",
    "\n",
    "print(\"The Accuracy score is : {} \".format(metrics.accuracy_score(y_test,predictions_XGB)))\n",
    "print(\"The F1 Score is : {}\".format(metrics.f1_score(y_test,predictions_XGB)))"
   ]
  },
  {
   "cell_type": "code",
   "execution_count": 51,
   "metadata": {},
   "outputs": [
    {
     "name": "stdout",
     "output_type": "stream",
     "text": [
      "              precision    recall  f1-score   support\n",
      "\n",
      "           0       0.90      0.72      0.80       421\n",
      "           1       0.22      0.49      0.31        67\n",
      "\n",
      "    accuracy                           0.69       488\n",
      "   macro avg       0.56      0.61      0.55       488\n",
      "weighted avg       0.81      0.69      0.73       488\n",
      "\n"
     ]
    }
   ],
   "source": [
    "print(metrics.classification_report(y_test,predictions_XGB))"
   ]
  },
  {
   "cell_type": "code",
   "execution_count": null,
   "metadata": {},
   "outputs": [],
   "source": []
  },
  {
   "cell_type": "code",
   "execution_count": null,
   "metadata": {},
   "outputs": [],
   "source": []
  },
  {
   "cell_type": "code",
   "execution_count": 52,
   "metadata": {},
   "outputs": [],
   "source": [
    "# downsampling"
   ]
  },
  {
   "cell_type": "code",
   "execution_count": 53,
   "metadata": {},
   "outputs": [],
   "source": [
    "not_following_downsampled = resample(not_following,\n",
    "                                replace = False, # sample without replacement\n",
    "                                n_samples = len(following), # match minority n\n",
    "                                random_state = 27) # reproducible results\n",
    "\n",
    "# combine minority and downsampled majority\n",
    "downsampled = pd.concat([not_following_downsampled,following])"
   ]
  },
  {
   "cell_type": "code",
   "execution_count": 54,
   "metadata": {},
   "outputs": [
    {
     "data": {
      "text/plain": [
       "1    204\n",
       "0    204\n",
       "Name: user_follows_me, dtype: int64"
      ]
     },
     "execution_count": 54,
     "metadata": {},
     "output_type": "execute_result"
    }
   ],
   "source": [
    "# checking counts\n",
    "downsampled.user_follows_me.value_counts()\n"
   ]
  },
  {
   "cell_type": "code",
   "execution_count": 55,
   "metadata": {},
   "outputs": [],
   "source": [
    "X_train = downsampled.drop(['user_follows_me'],axis=1)\n",
    "y_train = downsampled.loc[:,['user_follows_me']]\n"
   ]
  },
  {
   "cell_type": "code",
   "execution_count": null,
   "metadata": {},
   "outputs": [],
   "source": []
  },
  {
   "cell_type": "code",
   "execution_count": 56,
   "metadata": {},
   "outputs": [],
   "source": [
    "# Random Forest"
   ]
  },
  {
   "cell_type": "code",
   "execution_count": 57,
   "metadata": {},
   "outputs": [
    {
     "data": {
      "text/plain": [
       "RandomForestClassifier(bootstrap=True, class_weight=None, criterion='gini',\n",
       "                       max_depth=None, max_features='auto', max_leaf_nodes=None,\n",
       "                       min_impurity_decrease=0.0, min_impurity_split=None,\n",
       "                       min_samples_leaf=1, min_samples_split=2,\n",
       "                       min_weight_fraction_leaf=0.0, n_estimators=10,\n",
       "                       n_jobs=None, oob_score=False, random_state=None,\n",
       "                       verbose=0, warm_start=False)"
      ]
     },
     "execution_count": 57,
     "metadata": {},
     "output_type": "execute_result"
    }
   ],
   "source": [
    "RFC_2 = RandomForestClassifier()\n",
    "RFC_2.fit(X_train,y_train)"
   ]
  },
  {
   "cell_type": "code",
   "execution_count": 58,
   "metadata": {},
   "outputs": [
    {
     "name": "stdout",
     "output_type": "stream",
     "text": [
      "The Accuracy score is : 0.6188524590163934 \n",
      "The F2 Score is : 0.31111111111111117\n"
     ]
    }
   ],
   "source": [
    "predictions_RFC2 = RFC_2.predict(X_test)\n",
    "\n",
    "print(\"The Accuracy score is : {} \".format(metrics.accuracy_score(y_test,predictions_RFC2)))\n",
    "print(\"The F2 Score is : {}\".format(metrics.f1_score(y_test,predictions_RFC2)))"
   ]
  },
  {
   "cell_type": "code",
   "execution_count": 59,
   "metadata": {},
   "outputs": [
    {
     "name": "stdout",
     "output_type": "stream",
     "text": [
      "              precision    recall  f1-score   support\n",
      "\n",
      "           0       0.91      0.62      0.74       421\n",
      "           1       0.21      0.63      0.31        67\n",
      "\n",
      "    accuracy                           0.62       488\n",
      "   macro avg       0.56      0.62      0.52       488\n",
      "weighted avg       0.82      0.62      0.68       488\n",
      "\n"
     ]
    }
   ],
   "source": [
    "print(metrics.classification_report(y_test,predictions_RFC2))"
   ]
  },
  {
   "cell_type": "code",
   "execution_count": 60,
   "metadata": {},
   "outputs": [],
   "source": [
    "# XGBoost"
   ]
  },
  {
   "cell_type": "code",
   "execution_count": 61,
   "metadata": {},
   "outputs": [
    {
     "data": {
      "text/plain": [
       "XGBClassifier(base_score=0.5, booster='gbtree', colsample_bylevel=1,\n",
       "              colsample_bynode=1, colsample_bytree=1, gamma=0,\n",
       "              learning_rate=0.1, max_delta_step=0, max_depth=3,\n",
       "              min_child_weight=1, missing=None, n_estimators=100, n_jobs=1,\n",
       "              nthread=None, objective='binary:logistic', random_state=0,\n",
       "              reg_alpha=0, reg_lambda=1, scale_pos_weight=1, seed=None,\n",
       "              silent=None, subsample=1, verbosity=1)"
      ]
     },
     "execution_count": 61,
     "metadata": {},
     "output_type": "execute_result"
    }
   ],
   "source": [
    "XGB1 = XGBClassifier()\n",
    "XGB1.fit(X_train,y_train)"
   ]
  },
  {
   "cell_type": "code",
   "execution_count": 62,
   "metadata": {},
   "outputs": [
    {
     "name": "stdout",
     "output_type": "stream",
     "text": [
      "The Accuracy score is : 0.5409836065573771 \n",
      "The F1 Score is : 0.2679738562091504\n"
     ]
    }
   ],
   "source": [
    "predictions_XGB1 = XGB1.predict(X_test)\n",
    "\n",
    "print(\"The Accuracy score is : {} \".format(metrics.accuracy_score(y_test,predictions_XGB1)))\n",
    "print(\"The F1 Score is : {}\".format(metrics.f1_score(y_test,predictions_XGB1)))"
   ]
  },
  {
   "cell_type": "code",
   "execution_count": 63,
   "metadata": {},
   "outputs": [
    {
     "name": "stdout",
     "output_type": "stream",
     "text": [
      "              precision    recall  f1-score   support\n",
      "\n",
      "           0       0.90      0.53      0.67       421\n",
      "           1       0.17      0.61      0.27        67\n",
      "\n",
      "    accuracy                           0.54       488\n",
      "   macro avg       0.53      0.57      0.47       488\n",
      "weighted avg       0.80      0.54      0.61       488\n",
      "\n"
     ]
    }
   ],
   "source": [
    "print(metrics.classification_report(y_test,predictions_XGB1))"
   ]
  },
  {
   "cell_type": "code",
   "execution_count": null,
   "metadata": {},
   "outputs": [],
   "source": []
  }
 ],
 "metadata": {
  "kernelspec": {
   "display_name": "Python 3",
   "language": "python",
   "name": "python3"
  },
  "language_info": {
   "codemirror_mode": {
    "name": "ipython",
    "version": 3
   },
   "file_extension": ".py",
   "mimetype": "text/x-python",
   "name": "python",
   "nbconvert_exporter": "python",
   "pygments_lexer": "ipython3",
   "version": "3.7.3"
  }
 },
 "nbformat": 4,
 "nbformat_minor": 2
}
